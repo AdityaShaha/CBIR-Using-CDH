{
 "cells": [
  {
   "cell_type": "markdown",
   "metadata": {},
   "source": [
    "# Content Based Image Retrieval using Color Difference Histogram"
   ]
  },
  {
   "cell_type": "code",
   "execution_count": 1,
   "metadata": {},
   "outputs": [],
   "source": [
    "# importing libraries\n",
    "import math\n",
    "import cv2\n",
    "import numpy as np\n",
    "import matplotlib.pyplot as plt"
   ]
  },
  {
   "cell_type": "code",
   "execution_count": 23,
   "metadata": {},
   "outputs": [
    {
     "data": {
      "image/jpeg": "[encoded data removed]",
      "text/plain": [
       "<IPython.core.display.Image object>"
      ]
     },
     "execution_count": 23,
     "metadata": {},
     "output_type": "execute_result"
    }
   ],
   "source": [
    "from IPython.display import Image\n",
    "img = cv2.imread('5180.jpg')\n",
    "width, height, channels = img.shape\n",
    "Image('5180.jpg')"
   ]
  },
  {
   "cell_type": "code",
   "execution_count": 24,
   "metadata": {},
   "outputs": [],
   "source": [
    "Lab = cv2.cvtColor(img, cv2.COLOR_BGR2LAB)"
   ]
  },
  {
   "cell_type": "code",
   "execution_count": 25,
   "metadata": {},
   "outputs": [
    {
     "data": {
      "text/plain": [
       "array([[4., 4., 4., ..., 4., 4., 4.],\n",
       "       [4., 4., 4., ..., 4., 4., 4.],\n",
       "       [4., 4., 4., ..., 4., 4., 4.],\n",
       "       ...,\n",
       "       [4., 4., 4., ..., 4., 4., 4.],\n",
       "       [4., 4., 4., ..., 4., 4., 4.],\n",
       "       [4., 4., 4., ..., 4., 4., 4.]])"
      ]
     },
     "execution_count": 25,
     "metadata": {},
     "output_type": "execute_result"
    }
   ],
   "source": [
    "lnum = 10;\n",
    "anum = 3;\n",
    "bnum = 3;\n",
    "cnum=lnum*anum*bnum;\n",
    "onum=18;\n",
    "\n",
    "hist = np.zeros(cnum+onum)\n",
    "QuantizedImage = np.zeros(width*height).reshape(width,height)\n",
    "\n",
    "L=a=b=0\n",
    "for i in range(width):\n",
    "    for j in range (height):\n",
    "        L = int(Lab[i][j][0]*lnum/100.0)\n",
    "        if (L >= (lnum - 1)):\n",
    "            L = lnum - 1\n",
    "        elif (L < 0):\n",
    "            L = 0\n",
    "        \n",
    "        a = int(Lab[i][j][1]*anum/254.0)\n",
    "        if (a >= (anum - 1)):\n",
    "            a = anum - 1\n",
    "        elif (a < 0):\n",
    "            a = 0\n",
    "            \n",
    "        b = int(Lab[i][j][2]*bnum/254.0)\n",
    "        if (b >= (anum - 1)):\n",
    "            b = anum - 1\n",
    "        elif (b < 0):\n",
    "            b = 0            \n",
    "        \n",
    "        QuantizedImage[i][j] = (bnum * anum) * L + bnum * a + b\n",
    "QuantizedImage"
   ]
  },
  {
   "cell_type": "code",
   "execution_count": 26,
   "metadata": {},
   "outputs": [],
   "source": [
    "def coOrdinateTransform(arr,width,height):\n",
    "    Lab = np.zeros(3*width*height).reshape(width,height,3)\n",
    "    for i in range(width):\n",
    "        for j in range (height):\n",
    "            Lab[i][j][0] = arr[i][j][0]\n",
    "            Lab[i][j][1] = arr[i][j][1]\n",
    "            Lab[i][j][2] = arr[i][j][2]\n",
    "        \n",
    "            Lab[i][j][1] = arr[i][j][1] + 127.0\n",
    "        \n",
    "            if(Lab[i][j][1] >= 254.0):\n",
    "                Lab[i][j][1] = 254.0 - 1.0\n",
    "            if (Lab[i][j][1] < 0):\n",
    "                Lab[i][j][1] = 0\n",
    "        \n",
    "            Lab[i][j][2] = arr[i][j][2] + 127.0\n",
    "        \n",
    "            if (Lab[i][j][2] >= 254.0):\n",
    "                Lab[i][j][2] = 254.0 - 1.0\n",
    "            if (Lab[i][j][2] < 0):\n",
    "                Lab[i][j][2] = 0\n",
    "    return Lab"
   ]
  },
  {
   "cell_type": "code",
   "execution_count": 27,
   "metadata": {},
   "outputs": [
    {
     "data": {
      "text/plain": [
       "array([[[  6., 253., 253.],\n",
       "        [  6., 253., 253.],\n",
       "        [  6., 253., 253.],\n",
       "        ...,\n",
       "        [  6., 253., 253.],\n",
       "        [  6., 253., 253.],\n",
       "        [  6., 253., 253.]],\n",
       "\n",
       "       [[  6., 253., 253.],\n",
       "        [  6., 253., 253.],\n",
       "        [  6., 253., 253.],\n",
       "        ...,\n",
       "        [  6., 253., 253.],\n",
       "        [  6., 253., 253.],\n",
       "        [  6., 253., 253.]],\n",
       "\n",
       "       [[  6., 253., 253.],\n",
       "        [  6., 253., 253.],\n",
       "        [  6., 253., 253.],\n",
       "        ...,\n",
       "        [  6., 253., 253.],\n",
       "        [  6., 253., 253.],\n",
       "        [  6., 253., 253.]],\n",
       "\n",
       "       ...,\n",
       "\n",
       "       [[  6., 253., 253.],\n",
       "        [  6., 253., 253.],\n",
       "        [  6., 253., 253.],\n",
       "        ...,\n",
       "        [  6., 253., 253.],\n",
       "        [  6., 253., 253.],\n",
       "        [  6., 253., 253.]],\n",
       "\n",
       "       [[  6., 253., 253.],\n",
       "        [  6., 253., 253.],\n",
       "        [  6., 253., 253.],\n",
       "        ...,\n",
       "        [  6., 253., 253.],\n",
       "        [  6., 253., 253.],\n",
       "        [  6., 253., 253.]],\n",
       "\n",
       "       [[  6., 253., 253.],\n",
       "        [  6., 253., 253.],\n",
       "        [  6., 253., 253.],\n",
       "        ...,\n",
       "        [  6., 253., 253.],\n",
       "        [  6., 253., 253.],\n",
       "        [  6., 253., 253.]]])"
      ]
     },
     "execution_count": 27,
     "metadata": {},
     "output_type": "execute_result"
    }
   ],
   "source": [
    "lab = coOrdinateTransform(Lab,width,height)\n",
    "lab"
   ]
  },
  {
   "cell_type": "code",
   "execution_count": 28,
   "metadata": {},
   "outputs": [],
   "source": [
    "def maxgrad_and_mingrad_Lab(arr, num, wid, hei):\n",
    "    gxx = gyy = gxy = 0.0\n",
    "    rh = gh = bh = 0.0\n",
    "    rv = gv = bv = 0.0\n",
    "    theta = 0.0\n",
    "    ori = np.zeros(wid*hei).reshape(wid,hei)\n",
    "    for i in range(1,wid - 1):\n",
    "        for j in range(1,hei - 1):\n",
    "            rh = (arr[i - 1, j + 1, 0] + 2 * arr[i, j + 1, 0] + arr[i + 1, j + 1, 0]) - (arr[i - 1, j - 1, 0] + 2 * arr[i, j - 1, 0] + arr[i + 1, j - 1, 0])\n",
    "            gh = (arr[i - 1, j + 1, 1] + 2 * arr[i, j + 1, 1] + arr[i + 1, j + 1, 1]) - (arr[i - 1, j - 1, 1] + 2 * arr[i, j - 1, 1] + arr[i + 1, j - 1, 1])\n",
    "            bh = (arr[i - 1, j + 1, 2] + 2 * arr[i, j + 1, 2] + arr[i + 1, j + 1, 2]) - (arr[i - 1, j - 1, 2] + 2 * arr[i, j - 1, 2] + arr[i + 1, j - 1, 2])\n",
    "\n",
    "            rv = (arr[i + 1, j - 1, 0] + 2 * arr[i + 1, j, 0] + arr[i + 1, j + 1, 0]) - (arr[i - 1, j - 1, 0] + 2 * arr[i - 1, j, 0] + arr[i - 1, j + 1, 0])\n",
    "            gv = (arr[i + 1, j - 1, 1] + 2 * arr[i + 1, j, 1] + arr[i + 1, j + 1, 1]) - (arr[i - 1, j - 1, 1] + 2 * arr[i - 1, j, 1] + arr[i - 1, j + 1, 1])\n",
    "            bv = (arr[i + 1, j - 1, 2] + 2 * arr[i + 1, j, 2] + arr[i + 1, j + 1, 2]) - (arr[i - 1, j - 1, 2] + 2 * arr[i - 1, j, 2] + arr[i - 1, j + 1, 2])\n",
    "\n",
    "            gxx = rh * rh + gh * gh + bh * bh\n",
    "            gyy = rv * rv + gv * gv + bv * bv\n",
    "            gxy = rh * rv + gh * gv + bh * bv\n",
    "\n",
    "            theta = round(math.atan(2.0 * gxy / (gxx - gyy + 0.00001)) / 2.0, 4)\n",
    "            G1 = G2 = 0.0\n",
    "\n",
    "            G1 = math.sqrt(0.5 * ((gxx + gyy) + (gxx - gyy) * math.cos(2.0 * theta) + 2.0 * gxy * math.sin(2.0 * theta)))\n",
    "            G2 = math.sqrt(0.5 * ((gxx + gyy) + (gxx - gyy) * math.cos(2.0 * (theta + (math.pi / 2.0))) + 2.0 * gxy * math.sin(2.0 * (theta + (math.pi / 2.0)))))\n",
    "\n",
    "            dir = 0\n",
    "\n",
    "            if (max(G1, G2) == G1):\n",
    "                dir = 90.0 + theta * 180.0 / math.pi\n",
    "                ori[i, j] = int(dir * num / 360.0)\n",
    "            else:\n",
    "                dir = 180.0 + (theta + math.pi / 2.0) * 180.0 / math.pi\n",
    "                ori[i, j] = int(dir * num / 360.0)\n",
    "            if (ori[i, j] >= num - 1):\n",
    "                ori[i, j] = num - 1\n",
    "    return ori "
   ]
  },
  {
   "cell_type": "code",
   "execution_count": 29,
   "metadata": {},
   "outputs": [],
   "source": [
    "ori = maxgrad_and_mingrad_Lab(lab, onum, width, height)"
   ]
  },
  {
   "cell_type": "code",
   "execution_count": 30,
   "metadata": {},
   "outputs": [],
   "source": [
    "    def compute(ColorX,ori,Lab,wid,hei,CSA,CSB,D):\n",
    "        print(\"Called!\")\n",
    "        Arr = np.zeros(3 * wid * hei).reshape(wid, hei, 3)\n",
    "        Arr = coOrdinateTransform(Lab, wid, hei)\n",
    "        Matrix = np.zeros(CSA + CSB).reshape(CSA + CSB)\n",
    "        hist = np.zeros(CSA + CSB).reshape(CSA + CSB)\n",
    "\n",
    "        # -------------------calculate the color difference of different directions------------\n",
    "\n",
    "        # ----------direction=0--------------------\n",
    "\n",
    "        for i in range(wid):\n",
    "            for j in range(hei - D):\n",
    "                value = 0.0\n",
    "                if ori[i, j + D] == ori[i, j]:\n",
    "                    value = math.sqrt(math.pow(Arr[i, j + D, 0] - Arr[i, j,0], 2) + math.pow(Arr[i, j + D, 1]- Arr[i, j, 1], 2) + math.pow(Arr[i,j + D, 2] - Arr[i, j, 2], 2))\n",
    "                    Matrix[int(ColorX[i, j])] += value\n",
    "                if ColorX[i, j + D] == ColorX[i, j]:\n",
    "                    value = math.sqrt(math.pow(Arr[i, j + D, 0] - Arr[i, j,0], 2) + math.pow(Arr[i, j + D, 1]- Arr[i, j, 1], 2) + math.pow(Arr[i,j + D, 2] - Arr[i, j, 2], 2))\n",
    "                    Matrix[int(ori[i, j] + CSA)] += value\n",
    "\n",
    "         # -----------direction=90---------------------\n",
    "        \n",
    "        for i in range(wid - D):\n",
    "            for j in range(hei):\n",
    "                value = 0.0\n",
    "                if ori[i + D, j] == ori[i, j]:\n",
    "                    value = math.sqrt(math.pow(Arr[i + D, j, 0] - Arr[i, j,0], 2) + math.pow(Arr[i + D, j, 1]- Arr[i, j, 1], 2) + math.pow(Arr[i+ D, j, 2] - Arr[i, j, 2], 2))\n",
    "                    Matrix[int(ColorX[i, j])] += value\n",
    "                if ColorX[i + D, j] == ColorX[i, j]:\n",
    "                    value = math.sqrt(math.pow(Arr[i + D, j, 0] - Arr[i, j,0], 2) + math.pow(Arr[i + D, j, 1]- Arr[i, j, 1], 2) + math.pow(Arr[i+ D, j, 2] - Arr[i, j, 2], 2))\n",
    "                    Matrix[int(ori[i, j] + CSA)] += value\n",
    "\n",
    "       # -----------direction=135---------------------\n",
    "        for i in range(wid - D):\n",
    "            for j in range(hei - D):\n",
    "                value = 0.0\n",
    "                if ori[i + D, j + D] == ori[i, j]:\n",
    "                    value = math.sqrt(math.pow(Arr[i + D, j + D, 0]- Arr[i, j, 0], 2) + math.pow(Arr[i+ D, j + D, 1] - Arr[i, j, 1], 2)+ math.pow(Arr[i + D, j + D, 2]- Arr[i, j, 2], 2))\n",
    "                    Matrix[int(ColorX[i, j])] += value\n",
    "                if ColorX[i + D, j + D] == ColorX[i, j]:\n",
    "                    value = math.sqrt(math.pow(Arr[i + D, j + D, 0]- Arr[i, j, 0], 2) + math.pow(Arr[i+ D, j + D, 1] - Arr[i, j, 1], 2)+ math.pow(Arr[i + D, j + D, 2]- Arr[i, j, 2], 2))\n",
    "                    Matrix[int(ori[i, j] + CSA)] += value\n",
    "                \n",
    "        # -----------direction=45---------------------\n",
    "        \n",
    "        for i in range(D, wid):\n",
    "            for j in range(hei - D):\n",
    "                value = 0.0\n",
    "                if ori[i - D, j + D] == ori[i, j]:\n",
    "                    value = math.sqrt(math.pow(Arr[i - D, j + D, 0]- Arr[i, j, 0], 2) + math.pow(Arr[i- D, j + D, 1] - Arr[i, j, 1], 2)+ math.pow(Arr[i - D, j + D, 2]- Arr[i, j, 2], 2))\n",
    "                    Matrix[int(ColorX[i, j])] += value\n",
    "                if ColorX[i - D, j + D] == ColorX[i, j]:\n",
    "                    value = math.sqrt(math.pow(Arr[i - D, j + D, 0]- Arr[i, j, 0], 2) + math.pow(Arr[i- D, j + D, 1] - Arr[i, j, 1], 2)+ math.pow(Arr[i - D, j + D, 2]- Arr[i, j, 2], 2))\n",
    "                    Matrix[int(ori[i, j] + CSA)] += value\n",
    "                    \n",
    "        for i in range(CSA + CSB):\n",
    "            hist[i] = (Matrix[i]) / 4.0\n",
    "            \n",
    "        print(hist)\n",
    "        return hist\n"
   ]
  },
  {
   "cell_type": "code",
   "execution_count": 31,
   "metadata": {},
   "outputs": [
    {
     "name": "stdout",
     "output_type": "stream",
     "text": [
      "Called!\n",
      "[0.00000000e+00 0.00000000e+00 0.00000000e+00 0.00000000e+00\n",
      " 8.42307725e+03 0.00000000e+00 0.00000000e+00 0.00000000e+00\n",
      " 0.00000000e+00 0.00000000e+00 0.00000000e+00 0.00000000e+00\n",
      " 0.00000000e+00 1.39655910e+04 0.00000000e+00 0.00000000e+00\n",
      " 0.00000000e+00 0.00000000e+00 0.00000000e+00 0.00000000e+00\n",
      " 0.00000000e+00 4.83503309e+01 1.41238236e+04 0.00000000e+00\n",
      " 0.00000000e+00 0.00000000e+00 0.00000000e+00 0.00000000e+00\n",
      " 0.00000000e+00 0.00000000e+00 3.65176922e+02 1.09943861e+04\n",
      " 0.00000000e+00 0.00000000e+00 0.00000000e+00 0.00000000e+00\n",
      " 0.00000000e+00 0.00000000e+00 0.00000000e+00 1.21126658e+03\n",
      " 7.43906468e+03 0.00000000e+00 9.11702023e+01 0.00000000e+00\n",
      " 0.00000000e+00 0.00000000e+00 0.00000000e+00 0.00000000e+00\n",
      " 1.34186199e+03 5.18494912e+03 0.00000000e+00 1.05922961e+03\n",
      " 7.77330120e+01 0.00000000e+00 0.00000000e+00 0.00000000e+00\n",
      " 0.00000000e+00 1.55896192e+03 5.92044804e+03 0.00000000e+00\n",
      " 8.60572411e+02 1.80527780e+02 0.00000000e+00 0.00000000e+00\n",
      " 0.00000000e+00 0.00000000e+00 2.94152538e+03 7.11271512e+03\n",
      " 0.00000000e+00 3.16775578e+02 1.80325000e+03 9.50000000e+00\n",
      " 0.00000000e+00 0.00000000e+00 0.00000000e+00 2.76198850e+03\n",
      " 6.53400813e+03 0.00000000e+00 1.68522305e+02 6.85608542e+02\n",
      " 2.39278631e+02 0.00000000e+00 0.00000000e+00 0.00000000e+00\n",
      " 7.74661386e+03 1.39447726e+05 4.85858132e+03 2.85061597e+01\n",
      " 3.79603617e+02 1.30416058e+03 1.86789646e+03 0.00000000e+00\n",
      " 1.55482688e+04 2.32232104e+04 4.60742951e+04 2.31996792e+04\n",
      " 1.50205222e+04 0.00000000e+00 0.00000000e+00 0.00000000e+00\n",
      " 0.00000000e+00 1.54531146e+04 2.20463882e+04 5.34104829e+04\n",
      " 2.20297812e+04 1.59497418e+04 0.00000000e+00 0.00000000e+00]\n"
     ]
    }
   ],
   "source": [
    "D = 1\n",
    "hist = compute(QuantizedImage,ori,Lab,width,height,cnum,onum,D)"
   ]
  },
  {
   "cell_type": "code",
   "execution_count": 35,
   "metadata": {},
   "outputs": [
    {
     "data": {
      "image/png": "[encoded data removed]",
      "text/plain": [
       "<matplotlib.figure.Figure at 0x7f8354d6e2d0>"
      ]
     },
     "metadata": {},
     "output_type": "display_data"
    }
   ],
   "source": [
    "plt.axis([0, len(hist), 0, 100000])\n",
    "plt.bar(np.arange(len(hist)),hist)\n",
    "plt.xlabel('Bin size')\n",
    "plt.ylabel('Frequency')\n",
    "plt.title('Histogram of MSD')\n",
    "plt.grid(True)\n",
    "\n",
    "plt.show()"
   ]
  },
  {
   "cell_type": "code",
   "execution_count": null,
   "metadata": {},
   "outputs": [],
   "source": []
  }
 ],
 "metadata": {
  "kernelspec": {
   "display_name": "Python 2",
   "language": "python",
   "name": "python2"
  },
  "language_info": {
   "codemirror_mode": {
    "name": "ipython",
    "version": 2
   },
   "file_extension": ".py",
   "mimetype": "text/x-python",
   "name": "python",
   "nbconvert_exporter": "python",
   "pygments_lexer": "ipython2",
   "version": "2.7.12"
  }
 },
 "nbformat": 4,
 "nbformat_minor": 2
}
