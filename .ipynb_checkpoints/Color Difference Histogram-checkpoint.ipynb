{
 "cells": [
  {
   "cell_type": "markdown",
   "metadata": {},
   "source": [
    "# Content Based Image Retrieval using Color Difference Histogram"
   ]
  },
  {
   "cell_type": "code",
   "execution_count": 1,
   "metadata": {
    "collapsed": true
   },
   "outputs": [],
   "source": [
    "# importing libraries\n",
    "import math\n",
    "import cv2\n",
    "import numpy as np\n",
    "import matplotlib.pyplot as plt"
   ]
  },
  {
   "cell_type": "code",
   "execution_count": 2,
   "metadata": {},
   "outputs": [
    {
     "ename": "AttributeError",
     "evalue": "'NoneType' object has no attribute 'shape'",
     "output_type": "error",
     "traceback": [
      "\u001b[1;31m---------------------------------------------------------------------------\u001b[0m",
      "\u001b[1;31mAttributeError\u001b[0m                            Traceback (most recent call last)",
      "\u001b[1;32m<ipython-input-2-36d104ba484b>\u001b[0m in \u001b[0;36m<module>\u001b[1;34m()\u001b[0m\n\u001b[0;32m      1\u001b[0m \u001b[1;32mfrom\u001b[0m \u001b[0mIPython\u001b[0m\u001b[1;33m.\u001b[0m\u001b[0mdisplay\u001b[0m \u001b[1;32mimport\u001b[0m \u001b[0mImage\u001b[0m\u001b[1;33m\u001b[0m\u001b[0m\n\u001b[0;32m      2\u001b[0m \u001b[0mimg\u001b[0m \u001b[1;33m=\u001b[0m \u001b[0mcv2\u001b[0m\u001b[1;33m.\u001b[0m\u001b[0mimread\u001b[0m\u001b[1;33m(\u001b[0m\u001b[1;34m'416.jpg'\u001b[0m\u001b[1;33m)\u001b[0m\u001b[1;33m\u001b[0m\u001b[0m\n\u001b[1;32m----> 3\u001b[1;33m \u001b[0mwidth\u001b[0m\u001b[1;33m,\u001b[0m \u001b[0mheight\u001b[0m\u001b[1;33m,\u001b[0m \u001b[0mchannels\u001b[0m \u001b[1;33m=\u001b[0m \u001b[0mimg\u001b[0m\u001b[1;33m.\u001b[0m\u001b[0mshape\u001b[0m\u001b[1;33m\u001b[0m\u001b[0m\n\u001b[0m\u001b[0;32m      4\u001b[0m \u001b[0mImage\u001b[0m\u001b[1;33m(\u001b[0m\u001b[1;34m'416.jpg'\u001b[0m\u001b[1;33m)\u001b[0m\u001b[1;33m\u001b[0m\u001b[0m\n",
      "\u001b[1;31mAttributeError\u001b[0m: 'NoneType' object has no attribute 'shape'"
     ]
    }
   ],
   "source": [
    "from IPython.display import Image\n",
    "img = cv2.imread('416.jpg')\n",
    "width, height, channels = img.shape\n",
    "Image('416.jpg')"
   ]
  },
  {
   "cell_type": "code",
   "execution_count": 4,
   "metadata": {
    "collapsed": true
   },
   "outputs": [],
   "source": [
    "Lab = cv2.cvtColor(img, cv2.COLOR_BGR2LAB)"
   ]
  },
  {
   "cell_type": "code",
   "execution_count": 6,
   "metadata": {},
   "outputs": [
    {
     "data": {
      "text/plain": [
       "array([[ 4.,  4.,  4., ...,  4., 13.,  4.],\n",
       "       [85., 85., 85., ..., 85., 85., 85.],\n",
       "       [85., 85., 85., ..., 85., 85., 85.],\n",
       "       ...,\n",
       "       [85., 85., 85., ..., 85., 85., 85.],\n",
       "       [85., 85., 85., ..., 85., 85., 85.],\n",
       "       [85., 85., 85., ..., 85., 85., 85.]])"
      ]
     },
     "execution_count": 6,
     "metadata": {},
     "output_type": "execute_result"
    }
   ],
   "source": [
    "lnum = 10;\n",
    "anum = 3;\n",
    "bnum = 3;\n",
    "cnum=lnum*anum*bnum;\n",
    "onum=18;\n",
    "\n",
    "hist = np.zeros(cnum+onum)\n",
    "QuantizedImage = np.zeros(width*height).reshape(width,height)\n",
    "\n",
    "L=a=b=0\n",
    "for i in range(width):\n",
    "    for j in range (height):\n",
    "        L = int(Lab[i][j][0]*lnum/100.0)\n",
    "        if (L >= (lnum - 1)):\n",
    "            L = lnum - 1\n",
    "        elif (L < 0):\n",
    "            L = 0\n",
    "        \n",
    "        a = int(Lab[i][j][1]*anum/254.0)\n",
    "        if (a >= (anum - 1)):\n",
    "            a = anum - 1\n",
    "        elif (a < 0):\n",
    "            a = 0\n",
    "            \n",
    "        b = int(Lab[i][j][2]*bnum/254.0)\n",
    "        if (b >= (anum - 1)):\n",
    "            b = anum - 1\n",
    "        elif (b < 0):\n",
    "            b = 0            \n",
    "        \n",
    "        QuantizedImage[i][j] = (bnum * anum) * L + bnum * a + b\n",
    "QuantizedImage"
   ]
  },
  {
   "cell_type": "code",
   "execution_count": 8,
   "metadata": {
    "collapsed": true
   },
   "outputs": [],
   "source": [
    "def coOrdinateTransform(arr,width,height):\n",
    "    Lab = np.zeros(3*width*height).reshape(width,height,3)\n",
    "    for i in range(width):\n",
    "        for j in range (height):\n",
    "            Lab[i][j][0] = arr[i][j][0]\n",
    "            Lab[i][j][1] = arr[i][j][1]\n",
    "            Lab[i][j][2] = arr[i][j][2]\n",
    "        \n",
    "            Lab[i][j][1] = arr[i][j][1] + 127.0\n",
    "        \n",
    "            if(Lab[i][j][1] >= 254.0):\n",
    "                Lab[i][j][1] = 254.0 - 1.0\n",
    "            if (Lab[i][j][1] < 0):\n",
    "                Lab[i][j][1] = 0\n",
    "        \n",
    "            Lab[i][j][2] = arr[i][j][2] + 127.0\n",
    "        \n",
    "            if (Lab[i][j][2] >= 254.0):\n",
    "                Lab[i][j][2] = 254.0 - 1.0\n",
    "            if (Lab[i][j][2] < 0):\n",
    "                Lab[i][j][2] = 0\n",
    "    return Lab"
   ]
  },
  {
   "cell_type": "code",
   "execution_count": 11,
   "metadata": {},
   "outputs": [
    {
     "data": {
      "text/plain": [
       "array([[[  7., 253., 253.],\n",
       "        [  7., 253., 253.],\n",
       "        [  7., 253., 253.],\n",
       "        ...,\n",
       "        [  7., 253., 253.],\n",
       "        [ 12., 253., 253.],\n",
       "        [  3., 253., 253.]],\n",
       "\n",
       "       [[239., 253., 253.],\n",
       "        [239., 253., 253.],\n",
       "        [239., 253., 253.],\n",
       "        ...,\n",
       "        [241., 253., 253.],\n",
       "        [244., 253., 253.],\n",
       "        [231., 253., 253.]],\n",
       "\n",
       "       [[232., 253., 253.],\n",
       "        [232., 253., 253.],\n",
       "        [232., 253., 253.],\n",
       "        ...,\n",
       "        [235., 253., 253.],\n",
       "        [234., 253., 253.],\n",
       "        [217., 253., 253.]],\n",
       "\n",
       "       ...,\n",
       "\n",
       "       [[231., 253., 253.],\n",
       "        [231., 253., 253.],\n",
       "        [231., 253., 253.],\n",
       "        ...,\n",
       "        [235., 253., 253.],\n",
       "        [238., 253., 253.],\n",
       "        [214., 253., 253.]],\n",
       "\n",
       "       [[231., 253., 253.],\n",
       "        [231., 253., 253.],\n",
       "        [231., 253., 253.],\n",
       "        ...,\n",
       "        [235., 253., 253.],\n",
       "        [238., 253., 253.],\n",
       "        [214., 253., 253.]],\n",
       "\n",
       "       [[231., 253., 253.],\n",
       "        [231., 253., 253.],\n",
       "        [231., 253., 253.],\n",
       "        ...,\n",
       "        [235., 253., 253.],\n",
       "        [238., 253., 253.],\n",
       "        [214., 253., 253.]]])"
      ]
     },
     "execution_count": 11,
     "metadata": {},
     "output_type": "execute_result"
    }
   ],
   "source": [
    "lab = coOrdinateTransform(Lab,width,height)\n",
    "lab"
   ]
  },
  {
   "cell_type": "code",
   "execution_count": 4,
   "metadata": {
    "collapsed": true
   },
   "outputs": [],
   "source": [
    "def maxgrad_and_mingrad_Lab(arr, num, wid, hei):\n",
    "    gxx = gyy = gxy = 0.0\n",
    "    rh = gh = bh = 0.0\n",
    "    rv = gv = bv = 0.0\n",
    "    theta = 0.0\n",
    "    ori = np.zeros(wid*hei).reshape(wid,hei)\n",
    "    for i in range(1,wid - 1):\n",
    "        for j in range(1,hei - 1):\n",
    "            rh = (arr[i - 1, j + 1, 0] + 2 * arr[i, j + 1, 0] + arr[i + 1, j + 1, 0]) - (arr[i - 1, j - 1, 0] + 2 * arr[i, j - 1, 0] + arr[i + 1, j - 1, 0])\n",
    "            gh = (arr[i - 1, j + 1, 1] + 2 * arr[i, j + 1, 1] + arr[i + 1, j + 1, 1]) - (arr[i - 1, j - 1, 1] + 2 * arr[i, j - 1, 1] + arr[i + 1, j - 1, 1])\n",
    "            bh = (arr[i - 1, j + 1, 2] + 2 * arr[i, j + 1, 2] + arr[i + 1, j + 1, 2]) - (arr[i - 1, j - 1, 2] + 2 * arr[i, j - 1, 2] + arr[i + 1, j - 1, 2])\n",
    "\n",
    "            rv = (arr[i + 1, j - 1, 0] + 2 * arr[i + 1, j, 0] + arr[i + 1, j + 1, 0]) - (arr[i - 1, j - 1, 0] + 2 * arr[i - 1, j, 0] + arr[i - 1, j + 1, 0])\n",
    "            gv = (arr[i + 1, j - 1, 1] + 2 * arr[i + 1, j, 1] + arr[i + 1, j + 1, 1]) - (arr[i - 1, j - 1, 1] + 2 * arr[i - 1, j, 1] + arr[i - 1, j + 1, 1])\n",
    "            bv = (arr[i + 1, j - 1, 2] + 2 * arr[i + 1, j, 2] + arr[i + 1, j + 1, 2]) - (arr[i - 1, j - 1, 2] + 2 * arr[i - 1, j, 2] + arr[i - 1, j + 1, 2])\n",
    "\n",
    "            gxx = rh * rh + gh * gh + bh * bh\n",
    "            gyy = rv * rv + gv * gv + bv * bv\n",
    "            gxy = rh * rv + gh * gv + bh * bv\n",
    "\n",
    "            theta = round(math.atan(2.0 * gxy / (gxx - gyy + 0.00001)) / 2.0, 4)\n",
    "            G1 = G2 = 0.0\n",
    "\n",
    "            G1 = math.sqrt(0.5 * ((gxx + gyy) + (gxx - gyy) * math.cos(2.0 * theta) + 2.0 * gxy * math.sin(2.0 * theta)))\n",
    "            G2 = math.sqrt(0.5 * ((gxx + gyy) + (gxx - gyy) * math.cos(2.0 * (theta + (math.pi / 2.0))) + 2.0 * gxy * math.sin(2.0 * (theta + (Math.PI / 2.0)))))\n",
    "\n",
    "            dir = 0\n",
    "\n",
    "            if (max(G1, G2) == G1):\n",
    "                dir = 90.0 + theta * 180.0 / math.pi\n",
    "                ori[i, j] = int(dir * num / 360.0)\n",
    "            else:\n",
    "                dir = 180.0 + (theta + math.pi / 2.0) * 180.0 / math.pi\n",
    "                ori[i, j] = int(dir * num / 360.0)\n",
    "            if (ori[i, j] >= num - 1):\n",
    "                ori[i, j] = num - 1\n",
    "    return ori "
   ]
  },
  {
   "cell_type": "code",
   "execution_count": null,
   "metadata": {
    "collapsed": true
   },
   "outputs": [],
   "source": [
    "ori = maxgrad_and_mingrad_Lab(lab, onum, wid, hei)"
   ]
  },
  {
   "cell_type": "code",
   "execution_count": null,
   "metadata": {
    "collapsed": true
   },
   "outputs": [],
   "source": [
    "def compute(ref ColorX, ori, Lab, wid, hei, CSA, CSB, D):\n",
    "    Arr = numpy.zeros(3*wid*hei).reshape(3,wid,hei)\n",
    "    coordinate_transformation.LAB2Lab(ref LAB, out Arr, wid, hei)\n",
    "    double Matrix = numpy.zeros(CSA+CSB).reshape(CSA + CSB)\n",
    "    hist = numpy.zeros(CSA+CSB).reshape(CSA+CSB)\n",
    "    //-------------------calculate the color difference of different directions------------\n",
    "    \n",
    "    //----------direction=0--------------------\n",
    "    for i in range(wid):\n",
    "        for j in range(hei - D):\n",
    "            value = 0.0\n",
    "            if (ori[i, j + D] == ori[i, j]):\n",
    "                value = math.sqrt(math.pow(Arr[0, i, j + D] - Arr[0, i, j], 2) + math.pow(Arr[1, i, j + D] - Arr[1, i, j], 2) + math.pow(Arr[2, i, j + D] - Arr[2, i, j], 2))\n",
    "                Matrix[ColorX[i, j]] += value\n",
    "            if (ColorX[i, j + D] == ColorX[i, j]):\n",
    "                value = math.sqrt(math.pow(Arr[0, i, j + D] - Arr[0, i, j], 2) + math.pow(Arr[1, i, j + D] - Arr[1, i, j], 2) + math.pow(Arr[2, i, j + D] - Arr[2, i, j], 2))\n",
    "                Matrix[ori[i, j] + CSA] += value\n",
    "        \n",
    "    //-----------direction=90---------------------\n",
    "    for i in range(wid - D):\n",
    "        for j in range(hei):\n",
    "            value = 0.0\n",
    "            if (ori[i + D, j] == ori[i, j]):\n",
    "                value = math.sqrt(math.pow(Arr[0, i + D, j] - Arr[0, i, j], 2) + math.pow(Arr[1, i + D, j] - Arr[1, i, j], 2) + math.pow(Arr[2, i + D, j] - Arr[2, i, j], 2))\n",
    "                Matrix[ColorX[i, j]] += value\n",
    "            if (ColorX[i + D, j] == ColorX[i, j]):\n",
    "                value = math.sqrt(math.pow(Arr[0, i + D, j] - Arr[0, i, j], 2) + math.pow(Arr[1, i + D, j] - Arr[1, i, j], 2) + math.pow(Arr[2, i + D, j] - Arr[2, i, j], 2))\n",
    "                Matrix[ori[i, j] + CSA] += value\n",
    "                \n",
    "    //-----------direction=135---------------------\n",
    "    for i in range(wid - D):\n",
    "        for j in range(hei - D):\n",
    "            value = 0.0\n",
    "            if (ori[i + D, j + D] == ori[i, j]):\n",
    "                value = math.sqrt(math.pow(Arr[0, i + D, j + D] - Arr[0, i, j], 2) + math.pow(Arr[1, i + D, j + D] - Arr[1, i, j], 2) + math.pow(Arr[2, i + D, j + D] - Arr[2, i, j], 2))\n",
    "                Matrix[ColorX[i, j]] += value\n",
    "            if (ColorX[i + D, j + D] == ColorX[i, j]):\n",
    "                value = math.sqrt(math.pow(Arr[0, i + D, j + D] - Arr[0, i, j], 2) + math.pow(Arr[1, i + D, j + D] - Arr[1, i, j], 2) + math.pow(Arr[2, i + D, j + D] - Arr[2, i, j], 2))\n",
    "                Matrix[ori[i, j] + CSA] += value\n",
    "        \n",
    "    //-----------direction=45---------------------\n",
    "    for i in range(D,wid):\n",
    "        for j in range(hei - D):\n",
    "            value = 0.0\n",
    "            if (ori[i - D, j + D] == ori[i, j]):\n",
    "                value = math.sqrt(math.pow(Arr[0, i - D, j + D] - Arr[0, i, j], 2) + math.pow(Arr[1, i - D, j + D] - Arr[1, i, j], 2) + math.pow(Arr[2, i - D, j + D] - Arr[2, i, j], 2))\n",
    "                Matrix[ColorX[i, j]] += value;\n",
    "            if (ColorX[i - D, j + D] == ColorX[i, j]):\n",
    "                value = math.sqrt(math.pow(Arr[0, i - D, j + D] - Arr[0, i, j], 2) + math.pow(Arr[1, i - D, j + D] - Arr[1, i, j], 2) + math.pow(Arr[2, i - D, j + D] - Arr[2, i, j], 2))\n",
    "                Matrix[ori[i, j] + CSA] += value\n",
    "    \n",
    "    for i in range(CSA + CSB):\n",
    "        hist[i] = (Matrix[i]) / 4.0\n",
    "    return hist"
   ]
  }
 ],
 "metadata": {
  "kernelspec": {
   "display_name": "Python 2",
   "language": "python",
   "name": "python2"
  },
  "language_info": {
   "codemirror_mode": {
    "name": "ipython",
    "version": 2
   },
   "file_extension": ".py",
   "mimetype": "text/x-python",
   "name": "python",
   "nbconvert_exporter": "python",
   "pygments_lexer": "ipython2",
   "version": "2.7.12"
  }
 },
 "nbformat": 4,
 "nbformat_minor": 2
}
